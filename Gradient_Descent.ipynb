{
 "cells": [
  {
   "cell_type": "markdown",
   "id": "15f54edf-8e88-4ff5-a7ae-be42e67b037c",
   "metadata": {},
   "source": [
    "# Gradient Descent Implementation\n",
    "- Using **Gradient Descent** algorithm to find out the value of **Coefficient (m)** and **Intercept (c)**\\\n",
    "  and compare them with **sklearn Lenier_Regression**, **m** and **c**.\n",
    "  "
   ]
  },
  {
   "cell_type": "code",
   "execution_count": 1,
   "id": "bc846521-716e-473a-8dc8-5b7f0945ac4b",
   "metadata": {},
   "outputs": [],
   "source": [
    "import numpy as np\n",
    "import pandas as pd\n",
    "import matplotlib.pyplot as plt\n",
    "import math\n",
    "from sklearn.linear_model import LinearRegression"
   ]
  },
  {
   "cell_type": "code",
   "execution_count": 2,
   "id": "46493346-12f6-4472-b344-43537e588502",
   "metadata": {},
   "outputs": [
    {
     "data": {
      "text/html": [
       "<div>\n",
       "<style scoped>\n",
       "    .dataframe tbody tr th:only-of-type {\n",
       "        vertical-align: middle;\n",
       "    }\n",
       "\n",
       "    .dataframe tbody tr th {\n",
       "        vertical-align: top;\n",
       "    }\n",
       "\n",
       "    .dataframe thead th {\n",
       "        text-align: right;\n",
       "    }\n",
       "</style>\n",
       "<table border=\"1\" class=\"dataframe\">\n",
       "  <thead>\n",
       "    <tr style=\"text-align: right;\">\n",
       "      <th></th>\n",
       "      <th>name</th>\n",
       "      <th>math</th>\n",
       "      <th>cs</th>\n",
       "    </tr>\n",
       "  </thead>\n",
       "  <tbody>\n",
       "    <tr>\n",
       "      <th>0</th>\n",
       "      <td>david</td>\n",
       "      <td>92</td>\n",
       "      <td>98</td>\n",
       "    </tr>\n",
       "    <tr>\n",
       "      <th>1</th>\n",
       "      <td>laura</td>\n",
       "      <td>56</td>\n",
       "      <td>68</td>\n",
       "    </tr>\n",
       "    <tr>\n",
       "      <th>2</th>\n",
       "      <td>sanjay</td>\n",
       "      <td>88</td>\n",
       "      <td>81</td>\n",
       "    </tr>\n",
       "    <tr>\n",
       "      <th>3</th>\n",
       "      <td>wei</td>\n",
       "      <td>70</td>\n",
       "      <td>80</td>\n",
       "    </tr>\n",
       "    <tr>\n",
       "      <th>4</th>\n",
       "      <td>jeff</td>\n",
       "      <td>80</td>\n",
       "      <td>83</td>\n",
       "    </tr>\n",
       "  </tbody>\n",
       "</table>\n",
       "</div>"
      ],
      "text/plain": [
       "     name  math  cs\n",
       "0   david    92  98\n",
       "1   laura    56  68\n",
       "2  sanjay    88  81\n",
       "3     wei    70  80\n",
       "4    jeff    80  83"
      ]
     },
     "execution_count": 2,
     "metadata": {},
     "output_type": "execute_result"
    }
   ],
   "source": [
    "df = pd.read_csv(\"test_scores.csv\")\n",
    "df.head(5)"
   ]
  },
  {
   "cell_type": "code",
   "execution_count": 3,
   "id": "61447ad7-b015-4d87-898e-b5a497cc88ad",
   "metadata": {},
   "outputs": [
    {
     "data": {
      "text/plain": [
       "(array([92, 56, 88, 70, 80, 49, 65, 35, 66, 67]),\n",
       " array([98, 68, 81, 80, 83, 52, 66, 30, 68, 73]))"
      ]
     },
     "execution_count": 3,
     "metadata": {},
     "output_type": "execute_result"
    }
   ],
   "source": [
    "x = np.array(df.math)\n",
    "y = np.array(df.cs)\n",
    "x,y"
   ]
  },
  {
   "cell_type": "markdown",
   "id": "77fb7200-3e44-4444-9343-10d71025d792",
   "metadata": {},
   "source": [
    "## Formulas\n",
    "- y = mx + c\n",
    "- Mean Squared Error(mse) = (1/n) ∑ (y-(mx+c))^2\n",
    "- ∂/∂m = -(2/n) ∑ x(y-(mx+c))\n",
    "- ∂/∂c = -(2/n) ∑ (y-(mx+c))\n",
    "- m = m-∝(learning ratr)(∂/∂m)\n",
    "- c = c-∝(learning ratr)(∂/∂c)\n",
    "\n"
   ]
  },
  {
   "cell_type": "code",
   "execution_count": 8,
   "id": "5636cf87-78d6-4fe6-b7a9-734b24cf55be",
   "metadata": {},
   "outputs": [],
   "source": [
    "def gradient_descent(x,y):\n",
    "    m = 0    ## Coefficient\n",
    "    c = 0    ## Intercept\n",
    "    n = len(x)    ## Number of training examples\n",
    "    l_rate = 0.0002    ## Learning Rate\n",
    "    \n",
    "    mse_privious = 0\n",
    "    \n",
    "    plt.scatter(x,y,color=\"r\",marker=\"+\",linewidths=2 )\n",
    "    \n",
    "    for i in range(1000000):\n",
    "        y_pre = m*x + c\n",
    "        mse = (1/n)*sum(value**2 for value in (y-y_pre))    ## Mean Squared Error\n",
    "        dm = -(2/n)*sum(x*(y-y_pre))\n",
    "        dc = -(2/n)*sum(y-y_pre)\n",
    "        # plt.plot(x,y_pre,\"g--\")    ## Ploting the lines\n",
    "        m = m - l_rate*dm\n",
    "        c = c - l_rate*dc\n",
    "        if math.isclose(mse,mse_privious, rel_tol=1e-20 ):\n",
    "            break\n",
    "        mse_privious = mse\n",
    "        # print(f\"m:{m}, c:{c}, mse:{mse}\")\n",
    "    plt.plot(x,y_pre,\"r--\")\n",
    "    plt.title(\"Best Fit Line Using Gradient_Descent\")\n",
    "    plt.show()\n",
    "    return (f\"Using gradient descent function: Coef {m} Intercept {c}\")\n",
    "\n",
    "## using sklearn\n",
    "def predict_using_sklean():\n",
    "    df = pd.read_csv(\"test_scores.csv\")\n",
    "    reg = LinearRegression()\n",
    "    reg.fit(df[[\"math\"]],df.cs)\n",
    "    return (f\"Using sklearn: Coef {reg.coef_} Intercept {reg.intercept_}\")"
   ]
  },
  {
   "cell_type": "markdown",
   "id": "b7dcfd50-b959-48df-84d6-e5a3a82b3bde",
   "metadata": {},
   "source": [
    "### Ploting the Best Fit Line"
   ]
  },
  {
   "cell_type": "code",
   "execution_count": 9,
   "id": "566dfaa4-00ef-4275-b0e1-d426525ad2ea",
   "metadata": {},
   "outputs": [
    {
     "data": {
      "image/png": "[encoded data removed]",
      "text/plain": [
       "<Figure size 640x480 with 1 Axes>"
      ]
     },
     "metadata": {},
     "output_type": "display_data"
    },
    {
     "data": {
      "text/plain": [
       "('Using gradient descent function: Coef 1.0177381667350405 Intercept 1.9150826165722297',\n",
       " 'Using sklearn: Coef [1.01773624] Intercept 1.9152193111568891')"
      ]
     },
     "execution_count": 9,
     "metadata": {},
     "output_type": "execute_result"
    }
   ],
   "source": [
    "gradient_descent(x,y),\\\n",
    "predict_using_sklean()"
   ]
  },
  {
   "cell_type": "markdown",
   "id": "9f37a5c1-faa1-4e3f-ab8f-4f12f522eb24",
   "metadata": {},
   "source": [
    "### Final Result\n",
    "- **Gradient descent:-** **Coef :** 1.0177381667350405, **Intercept :** 1.9150826165722297'\\\n",
    "  **sklearn:-** **Coef :** 1.01773624, **Intercept :** 1.9152193111568891\n",
    "\n",
    "- In both cases coefficient and intercept are identical"
   ]
  },
  {
   "cell_type": "code",
   "execution_count": null,
   "id": "ec1e4d63-cecb-4e36-af33-ddb7b964f0a4",
   "metadata": {},
   "outputs": [],
   "source": []
  },
  {
   "cell_type": "code",
   "execution_count": null,
   "id": "63b9518e-6b37-432c-9899-f135cc4e44ed",
   "metadata": {},
   "outputs": [],
   "source": []
  }
 ],
 "metadata": {
  "kernelspec": {
   "display_name": "Python 3 (ipykernel)",
   "language": "python",
   "name": "python3"
  },
  "language_info": {
   "codemirror_mode": {
    "name": "ipython",
    "version": 3
   },
   "file_extension": ".py",
   "mimetype": "text/x-python",
   "name": "python",
   "nbconvert_exporter": "python",
   "pygments_lexer": "ipython3",
   "version": "3.13.5"
  }
 },
 "nbformat": 4,
 "nbformat_minor": 5
}
